{
  "cells": [
    {
      "cell_type": "markdown",
      "metadata": {},
      "source": [
        "# Vacamole\n",
        "\n",
        "This example is taken from the documentation of the R package\n",
        "[`epidemics`](https://raw.githubusercontent.com/epiverse-trace/epidemics/main/vignettes/vacamole.Rmd)."
      ],
      "id": "43fe84fa-bd69-4018-9075-8e062f7cae50"
    },
    {
      "cell_type": "code",
      "execution_count": null,
      "metadata": {},
      "outputs": [],
      "source": [
        "library(epidemics)\n",
        "library(data.table)\n",
        "library(ggplot2)\n",
        "library(colorspace)\n",
        "library(scales)"
      ],
      "id": "d769d0a9-a3ef-4790-bd71-d484708c9479"
    },
    {
      "cell_type": "markdown",
      "metadata": {},
      "source": [
        "## Prepare population and initial conditions\n",
        "\n",
        "Prepare population and contact data."
      ],
      "id": "820a1db7-4b1e-4047-8e89-bc4094515fdc"
    },
    {
      "cell_type": "code",
      "execution_count": null,
      "metadata": {},
      "outputs": [
        {
          "output_type": "stream",
          "name": "stderr",
          "text": [
            "Using POLYMOD social contact data. To cite this in a publication, use the 'cite' function"
          ]
        },
        {
          "output_type": "stream",
          "name": "stderr",
          "text": [
            "Removing participants that have contacts without age information. To change this behaviour, set the 'missing.contact.age' option"
          ]
        }
      ],
      "source": [
        "# load contact and population data from socialmixr::polymod\n",
        "polymod <- socialmixr::polymod\n",
        "contact_data <- socialmixr::contact_matrix(\n",
        "  polymod,\n",
        "  countries = \"United Kingdom\",\n",
        "  age.limits = c(0, 20, 65),\n",
        "  symmetric = TRUE\n",
        ")"
      ],
      "id": "ac077646-2dde-4f2a-951d-4c6104569e7e"
    },
    {
      "cell_type": "markdown",
      "metadata": {},
      "source": [
        "Prepare initial conditions for each age group. The Vacamole model has 11\n",
        "compartments and therefore requires a matrix with 11 columns."
      ],
      "id": "f1117009-26bb-4703-ae5d-7abde1bd9e54"
    },
    {
      "cell_type": "code",
      "execution_count": null,
      "metadata": {},
      "outputs": [],
      "source": [
        "# initial conditions\n",
        "initial_i <- 1e-6\n",
        "\n",
        "# // 0| 1| 2|3| 4|5| 6|7| 8|9|10\n",
        "# // S|V1|V2|E|EV|I|IV|H|HV|D|R\n",
        "\n",
        "# make initial conditions - order is important\n",
        "initial_conditions <- c(\n",
        "  S = 1 - initial_i,\n",
        "  V1 = 0, V2 = 0,\n",
        "  E = 0, EV = 0,\n",
        "  I = initial_i, IV = 0,\n",
        "  H = 0, HV = 0, D = 0, R = 0\n",
        ")\n",
        "initial_conditions <- rbind(\n",
        "  initial_conditions,\n",
        "  initial_conditions,\n",
        "  initial_conditions\n",
        ")\n",
        "\n",
        "# assign rownames for clarity\n",
        "rownames(initial_conditions) <- rownames(contact_matrix)"
      ],
      "id": "30c05998-0e97-4e1f-827f-056cad55b61e"
    },
    {
      "cell_type": "markdown",
      "metadata": {},
      "source": [
        "Prepare the time in days over which to model the epidemic, with the\n",
        "outbreak beginning at day zero."
      ],
      "id": "eefe6e2e-73a7-475b-8592-678c7b72280c"
    },
    {
      "cell_type": "code",
      "execution_count": null,
      "metadata": {},
      "outputs": [],
      "source": [
        "epidemic_days <- 300"
      ],
      "id": "ac1d020d-c879-4994-8403-caa676da6cd8"
    },
    {
      "cell_type": "markdown",
      "metadata": {},
      "source": [
        "Prepare a population as a `population` class object."
      ],
      "id": "4c9d4aff-29a4-4334-9e67-a6ade2febb45"
    },
    {
      "cell_type": "code",
      "execution_count": null,
      "metadata": {},
      "outputs": [],
      "source": [
        "uk_population <- population(\n",
        "  name = \"UK\",\n",
        "  contact_matrix = contact_matrix,\n",
        "  demography_vector = demography_vector,\n",
        "  initial_conditions = initial_conditions\n",
        ")"
      ],
      "id": "121fed00-aa30-4b15-99d7-b5cb27a726cc"
    },
    {
      "cell_type": "markdown",
      "metadata": {},
      "source": [
        "## Prepare pathogen parameters"
      ],
      "id": "7418a050-d40d-4b74-ba8f-b8e12923e89d"
    },
    {
      "cell_type": "code",
      "execution_count": null,
      "metadata": {},
      "outputs": [],
      "source": [
        "# make infection class for Vacamole model\n",
        "# note extra arguments passed as ...\n",
        "infect <- infection(\n",
        "  name = \"covid\", r0 = 3, infectious_period = 10,\n",
        "  preinfectious_period = 5,\n",
        "  eta = 1 / 1000, omega = 1 / 1000,\n",
        "  susc_reduction_vax = 0.5,\n",
        "  hosp_reduction_vax = 0.5,\n",
        "  mort_reduction_vax = 0.5\n",
        ")"
      ],
      "id": "1689d41e-7833-4849-928b-8bd6ffcb81ad"
    },
    {
      "cell_type": "markdown",
      "metadata": {},
      "source": [
        "## Prepare a two dose vaccination campaign\n",
        "\n",
        "We prepare a two-dose vaccination campaign by concatenating two single\n",
        "dose vaccination regimes, i.e., applying the function `c()` to two\n",
        "`vaccination` objects."
      ],
      "id": "ada88280-f8a5-4079-8d81-2e69fb8baef6"
    },
    {
      "cell_type": "code",
      "execution_count": null,
      "metadata": {},
      "outputs": [
        {
          "output_type": "stream",
          "name": "stdout",
          "text": [
            "<vaccination>\n",
            "Vaccination name: \"two-dose vaccination\"\n",
            "\n",
            "Time begin:\n",
            "     dose_1 dose_2\n",
            "[1,]     30     60\n",
            "[2,]     30     60\n",
            "[3,]     30     60\n",
            "\n",
            "Time end:\n",
            "     dose_1 dose_2\n",
            "[1,]    300    300\n",
            "[2,]    300    300\n",
            "[3,]    300    300\n",
            "\n",
            "Vaccination rate:\n",
            "     dose_1 dose_2\n",
            "[1,]   0.01   0.01\n",
            "[2,]   0.01   0.01\n",
            "[3,]   0.01   0.01"
          ]
        }
      ],
      "source": [
        "# prepare a two dose vaccination regime for a single age group\n",
        "# prepare the first dose\n",
        "dose_1 <- vaccination(\n",
        "  name = \"two-dose vaccination\", # name given to first dose\n",
        "  nu = matrix(1e-2, nrow = 3),\n",
        "  time_begin = matrix(30, nrow = 3),\n",
        "  time_end = matrix(epidemic_days, nrow = 3)\n",
        ")\n",
        "\n",
        "# prepare the second dose with a 30 day interval in start date\n",
        "dose_2 <- vaccination(\n",
        "  name = \"two-dose vaccination\", # name given to first dose\n",
        "  nu = matrix(1e-2, nrow = 3),\n",
        "  time_begin = matrix(60, nrow = 3),\n",
        "  time_end = matrix(epidemic_days, nrow = 3)\n",
        ")\n",
        "\n",
        "# use `c()` to combine the two doses\n",
        "double_vaccination <- c(dose_1, dose_2)\n",
        "\n",
        "# print to visualise\n",
        "double_vaccination"
      ],
      "id": "e7262a0e-3af0-4b91-a356-2a771076e1b4"
    },
    {
      "cell_type": "markdown",
      "metadata": {},
      "source": [
        "We prepare a dummy vaccination regime of no vaccination against which to\n",
        "compare the two-dose vaccination campaign. This is done by using the\n",
        "`no_vaccination()` function and specifying the number of doses (here, 2\n",
        "doses)."
      ],
      "id": "8c12c171-3618-4365-8dc5-4e556b3db7b2"
    },
    {
      "cell_type": "code",
      "execution_count": null,
      "metadata": {},
      "outputs": [],
      "source": [
        "# prepare a null vaccination regime with two doses\n",
        "# use the convenience function `no_vaccination()`\n",
        "no_vaccination <- no_vaccination(population = uk_population, doses = 2)"
      ],
      "id": "3ef7762c-04a0-453d-9730-7a81d2a3b12f"
    },
    {
      "cell_type": "markdown",
      "metadata": {},
      "source": [
        "## Model epidemic using Vacamole\n",
        "\n",
        "First, we run the model with no vaccination."
      ],
      "id": "054e94f6-401f-4279-b8e7-91bc875b03cf"
    },
    {
      "cell_type": "code",
      "execution_count": null,
      "metadata": {},
      "outputs": [],
      "source": [
        "data <- epidemic(\n",
        "  model_name = \"vacamole\",\n",
        "  population = uk_population,\n",
        "  infection = infect,\n",
        "  vaccination = no_vaccination, # note custom no_vaccination object\n",
        "  time_end = epidemic_days\n",
        ")"
      ],
      "id": "b33ae64c-8b05-4208-b159-e66b61efdb51"
    },
    {
      "cell_type": "markdown",
      "metadata": {},
      "source": [
        "Next we run the model with a two dose vaccination regime."
      ],
      "id": "c8163d19-0f1c-4a20-b21a-a45c7caef891"
    },
    {
      "cell_type": "code",
      "execution_count": null,
      "metadata": {},
      "outputs": [],
      "source": [
        "data_vaccination <- epidemic(\n",
        "  model_name = \"vacamole\",\n",
        "  population = uk_population,\n",
        "  infection = infect,\n",
        "  vaccination = double_vaccination, # note custom object for two doses\n",
        "  time_end = epidemic_days\n",
        ")"
      ],
      "id": "20241ca4-a624-4ed5-8cc7-103983aea4b3"
    },
    {
      "cell_type": "markdown",
      "metadata": {},
      "source": [
        "## Visualise model outcomes\n",
        "\n",
        "First, we calculate the total number of infections resulting in\n",
        "recoveries and deaths over the course of the simulation; this is the\n",
        "epidemic’s final size."
      ],
      "id": "513933c0-894b-47c6-a189-4cc7edf6d628"
    },
    {
      "cell_type": "code",
      "execution_count": null,
      "metadata": {},
      "outputs": [],
      "source": [
        "# collect data from the two scenarios\n",
        "data_scenarios <- list(data, data_vaccination)\n",
        "\n",
        "# get deaths and recoveries from infection\n",
        "data_scenarios <- Map(\n",
        "  data_scenarios, c(\"no_vax\", \"vax\"),\n",
        "  f = function(df, sc) {\n",
        "    df_ <- unique(df[, \"demography_group\"], by = \"demography_group\")\n",
        "    # get total deaths per group\n",
        "    df_$total_deaths <- df[time == max(time) & compartment == \"dead\", ]$value\n",
        "\n",
        "    # get total recoveries per group using helper function `epidemic_size()`\n",
        "    df_$total_recovered <- epidemic_size(df, deaths = FALSE) # do not count dead\n",
        "\n",
        "    # add scenario information\n",
        "    df_$scenario <- sc\n",
        "\n",
        "    # return data\n",
        "    df_\n",
        "  }\n",
        ")\n",
        "\n",
        "# collect data\n",
        "data_scenarios <- rbindlist(data_scenarios)\n",
        "\n",
        "# transform to long format\n",
        "data_scenarios <- melt(\n",
        "  data_scenarios,\n",
        "  id.vars = c(\"demography_group\", \"scenario\")\n",
        ")"
      ],
      "id": "54b890a8-4f96-4f8e-9280-e5fda2c514be"
    },
    {
      "cell_type": "code",
      "execution_count": null,
      "metadata": {},
      "outputs": [
        {
          "output_type": "display_data",
          "metadata": {},
          "data": {
            "image/png": "[encoded data removed]"
          }
        }
      ],
      "source": [
        "ggplot(data_scenarios) +\n",
        "  geom_col(\n",
        "    aes(demography_group, value, fill = scenario),\n",
        "    position = \"dodge\",\n",
        "    colour = \"black\"\n",
        "  ) +\n",
        "  facet_wrap(\n",
        "    ~variable,\n",
        "    scales = \"free_y\",\n",
        "    labeller = labeller(\n",
        "      variable = c(\n",
        "        \"total_deaths\" = \"Total deaths\",\n",
        "        \"total_recovered\" = \"Epidemic size (infections, not counting deaths)\"\n",
        "      )\n",
        "    )\n",
        "  ) +\n",
        "  scale_fill_discrete_qualitative(\n",
        "    palette = \"Dynamic\",\n",
        "    labels = c(\"No vaccination\", \"Vaccination\"),\n",
        "    name = \"Scenario\",\n",
        "    na.value = \"lightgrey\"\n",
        "  ) +\n",
        "  scale_y_continuous(\n",
        "    labels = label_comma(\n",
        "      scale = 1e-6, suffix = \"M\"\n",
        "    )\n",
        "  ) +\n",
        "  theme_classic() +\n",
        "  theme(\n",
        "    legend.position = \"bottom\",\n",
        "    legend.key.height = unit(2, \"mm\"),\n",
        "    strip.background = element_blank(),\n",
        "    strip.text = element_text(\n",
        "      face = \"bold\",\n",
        "      size = 11\n",
        "    )\n",
        "  ) +\n",
        "  expand_limits(\n",
        "    x = c(0.5, length(unique(data_scenarios$demography_group)) + 0.5)\n",
        "  ) +\n",
        "  coord_cartesian(\n",
        "    expand = FALSE\n",
        "  ) +\n",
        "  labs(\n",
        "    x = \"Age group\",\n",
        "    y = \"No. of individuals\",\n",
        "    title = \"Effect of vaccination on deaths and total infections\"\n",
        "  )"
      ],
      "id": "999a6ec6-97f2-43c2-ae93-6a6366f8a351"
    },
    {
      "cell_type": "markdown",
      "metadata": {},
      "source": [
        "Finally, we can compare the peak of hospital bed occupancy in each\n",
        "scenario — this can be a rough indication of how much hospital capacity\n",
        "would be required if a pandemic of these characteristics were to occur,\n",
        "as well as another way to examine the effect of vaccination in reducing\n",
        "this requirement."
      ],
      "id": "7b49265b-e5f9-4a80-a9d5-f87a53b9a9a4"
    },
    {
      "cell_type": "code",
      "execution_count": null,
      "metadata": {},
      "outputs": [
        {
          "output_type": "stream",
          "name": "stdout",
          "text": [
            "No vaccination    Vaccination \n",
            "      \"95,063\"       \"69,827\" "
          ]
        }
      ],
      "source": [
        "# collect data from the two scenarios\n",
        "data_scenarios <- list(data, data_vaccination)\n",
        "\n",
        "peak_hospital_occupancy <- vapply(data_scenarios, function(df) {\n",
        "  # get highest hospital occupancy\n",
        "  # first get total hospitalisations among vaccinated and un- or part-vacc.\n",
        "  df <- dcast(\n",
        "    df[compartment %like% \"hospitalised\", ],\n",
        "    time + demography_group ~ compartment,\n",
        "    value.var = \"value\"\n",
        "  )\n",
        "  df[, total_hosp := hospitalised + hospitalised_vaccinated]\n",
        "\n",
        "  # sum all age groups\n",
        "  df <- df[, list(total_hosp = sum(total_hosp)), by = \"time\"]\n",
        "\n",
        "  df[total_hosp == max(total_hosp), ]$total_hosp\n",
        "}, FUN.VALUE = numeric(1))\n",
        "\n",
        "# set names for comprehensibility\n",
        "names(peak_hospital_occupancy) <- c(\"No vaccination\", \"Vaccination\")\n",
        "\n",
        "# show peak hospital occupancy in a readable format\n",
        "format(peak_hospital_occupancy, big.mark = \",\", digits = 1)"
      ],
      "id": "1d31ac74-2073-44e3-bde4-7ef0336c4fc1"
    },
    {
      "cell_type": "markdown",
      "metadata": {},
      "source": [
        "This example demonstrates that implementing vaccination can\n",
        "substantially reduce peak hospital occupancy (by about 27%) compared to\n",
        "a scenario in which no vaccines are deployed."
      ],
      "id": "d5f2ce05-513e-4c7a-8521-58dc48214a75"
    }
  ],
  "nbformat": 4,
  "nbformat_minor": 5,
  "metadata": {
    "kernelspec": {
      "display_name": "Python 3",
      "language": "python",
      "name": "python3"
    }
  }
}