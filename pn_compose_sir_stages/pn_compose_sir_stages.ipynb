{
  "cells": [
    {
      "cell_type": "markdown",
      "metadata": {},
      "source": [
        "# Applying the linear chain trick using AlgebraicPetri.jl\n",
        "Simon Frost (@sdwfrost) and Sean L. Wu (@slwu89), 2023-06-14\n",
        "\n",
        "## Introduction\n",
        "\n",
        "This example extends the [basic SIR model](https://github.com/epirecipes/EpiCats/blob/main/pn_compose_sir/pn_compose_sir.ipynb) using the linear chain trick (see [this paper](https://link.springer.com/article/10.1007/s00285-019-01412-w) for more background), in which we chain together multiple infected stages in order to change the infectious period distribution.\n",
        "\n",
        "## Libraries\n"
      ],
      "id": "376db0be"
    },
    {
      "cell_type": "code",
      "metadata": {},
      "source": [
        "using AlgebraicPetri,AlgebraicPetri.TypedPetri\n",
        "using Catlab, Catlab.CategoricalAlgebra, Catlab.Programs\n",
        "using Catlab.WiringDiagrams\n",
        "using AlgebraicDynamics.UWDDynam\n",
        "using LabelledArrays\n",
        "using OrdinaryDiffEq\n",
        "using Plots"
      ],
      "id": "7c8c3e48",
      "execution_count": null,
      "outputs": []
    },
    {
      "cell_type": "markdown",
      "metadata": {},
      "source": [
        "## Transitions\n",
        "\n",
        "For convenience, we define `sub`, a function that generate subscripted variables as strings.\n"
      ],
      "id": "2b428927"
    },
    {
      "cell_type": "code",
      "metadata": {},
      "source": [
        "nstages = 4\n",
        "sub(i::Int) = i<0 ? error(\"$i is negative\") : join('₀'+d for d in reverse(digits(i)))\n",
        "sub(x::String,i::Int) = x*sub(i);"
      ],
      "id": "e95bf370",
      "execution_count": null,
      "outputs": []
    },
    {
      "cell_type": "markdown",
      "metadata": {},
      "source": [
        "We define a labelled Petri net that has the different types of transition in our models. The first argument is an array of state names as symbols (here, a generic `:Pop`), followed by the transitions in the model. Transitions are given as `transition_name=>((input_states)=>(output_states))`.\n"
      ],
      "id": "44dce851"
    },
    {
      "cell_type": "code",
      "metadata": {},
      "source": [
        "epi_lpn = LabelledPetriNet(\n",
        "  [:Pop],\n",
        "  :infection=>((:Pop, :Pop)=>(:Pop, :Pop)),\n",
        "  :progression=>(:Pop=>:Pop),\n",
        "  :recovery=>(:Pop=>:Pop)\n",
        ");"
      ],
      "id": "d9786b44",
      "execution_count": null,
      "outputs": []
    },
    {
      "cell_type": "markdown",
      "metadata": {},
      "source": [
        "Next, we define the transmission model as an undirected wiring diagram using the `@relation` macro, as in [the basic SIR example](https://github.com/epirecipes/EpiCats/blob/main/pn_compose_sir/pn_compose_sir.ipynb). The steps are as follows:\n",
        "\n",
        "1. Define the undirected wiring diagram.\n",
        "2. Convert to an `ACSetTransformation` by composing the wiring diagram with the labelled Petri net of transitions.\n",
        "3. Extract the composed Petri net from the `ACSetTransformation`.\n",
        "\n",
        "We use four terms that capture the generation of `I₁` from the four infectious stages, with a separate `β` parameter for each stage.\n"
      ],
      "id": "529bbea5"
    },
    {
      "cell_type": "code",
      "metadata": {},
      "source": [
        "si_uwd = @relation (S, I₁, I₂, I₃, I₄) where (S::Pop, I₁::Pop, I₂::Pop, I₃::Pop, I₄::Pop) begin\n",
        "    infection(S,I₁,I₁,I₁)\n",
        "    infection(S,I₂,I₁,I₂)\n",
        "    infection(S,I₃,I₁,I₃)\n",
        "    infection(S,I₄,I₁,I₄)\n",
        "end\n",
        "betas = Symbol.([sub(\"β\",i) for i=1:nstages])\n",
        "si_acst = oapply_typed(epi_lpn, si_uwd, betas)\n",
        "si_lpn = dom(si_acst)\n",
        "Graph(si_lpn)"
      ],
      "id": "3f948bb9",
      "execution_count": null,
      "outputs": []
    },
    {
      "cell_type": "markdown",
      "metadata": {},
      "source": [
        "We repeat for the progression (`I₁` to `I₂`, etc.) and recovery (`I₄` to `R`) transitions; we will use an indexed parameter `δ` for both the progression and recovery rates.\n"
      ],
      "id": "77236726"
    },
    {
      "cell_type": "code",
      "metadata": {},
      "source": [
        "ir_uwd = @relation (I₁, I₂, I₃, I₄, R) where (I₁::Pop, I₂::Pop, I₃::Pop, I₄::Pop, R::Pop) begin\n",
        "    progression(I₁,I₂)\n",
        "    progression(I₂,I₃)\n",
        "    progression(I₃,I₄)\n",
        "    recovery(I₄,R)\n",
        "end\n",
        "deltas = Symbol.([sub(\"δ\",i) for i=1:nstages])\n",
        "ir_acst = oapply_typed(epi_lpn, ir_uwd, deltas)\n",
        "ir_lpn = dom(ir_acst)\n",
        "Graph(ir_lpn)"
      ],
      "id": "fd48d561",
      "execution_count": null,
      "outputs": []
    },
    {
      "cell_type": "markdown",
      "metadata": {},
      "source": [
        "To glue the SI and IR models together to make an SIR model, we perform the following:\n",
        "1. We define an undirected wiring diagram which contains all our states, and two transitions.\n",
        "2. We then create a `StructuredMulticospan` using this wiring diagram and a dictionary that maps the objects in the wiring diagram with the transmission and recovery Petri nets generated previously.\n",
        "3. We extract the composed labelled Petri net.\n"
      ],
      "id": "b33dc9dc"
    },
    {
      "cell_type": "code",
      "metadata": {},
      "source": [
        "sir_uwd = @relation (S, I₁, I₂, I₃, I₄, R) where (S::Pop, I₁::Pop, I₂::Pop, I₃::Pop, I₄::Pop, R::Pop) begin\n",
        "    si(S, I₁, I₂, I₃, I₄)\n",
        "    ir(I₁, I₂, I₃, I₄, R)\n",
        "end\n",
        "sir_smc = oapply(sir_uwd, Dict(\n",
        "    :si => Open(si_lpn),\n",
        "    :ir => Open(ir_lpn),\n",
        "))\n",
        "sir_lpn = apex(sir_smc)\n",
        "Graph(sir_lpn)"
      ],
      "id": "2ed58c8d",
      "execution_count": null,
      "outputs": []
    },
    {
      "cell_type": "markdown",
      "metadata": {},
      "source": [
        "## Running the model\n",
        "\n",
        "To run an ODE model from the labelled Petri net, we define a vector field, the initial conditions, the parameter array, and the time span.\n"
      ],
      "id": "67308556"
    },
    {
      "cell_type": "code",
      "metadata": {},
      "source": [
        "sir_vf = vectorfield(sir_lpn);\n",
        "u0 = @LArray [990.0, 10.0, 0.0, 0.0, 0.0, 0.0] Tuple(snames(sir_lpn))\n",
        "p = @LArray vec([repeat([0.5/1000],4); repeat([0.25/4],4)]) Tuple(tnames(sir_lpn))\n",
        "tspan = (0.0, 40.0);"
      ],
      "id": "1e22dc40",
      "execution_count": null,
      "outputs": []
    },
    {
      "cell_type": "markdown",
      "metadata": {},
      "source": [
        "We can now solve the system.\n"
      ],
      "id": "3e72e349"
    },
    {
      "cell_type": "code",
      "metadata": {},
      "source": [
        "sir_prob = ODEProblem(sir_vf, u0, tspan, p)\n",
        "sir_sol = solve(sir_prob, Rosenbrock32())\n",
        "plot(sir_sol)"
      ],
      "id": "b4962ca9",
      "execution_count": null,
      "outputs": []
    },
    {
      "cell_type": "markdown",
      "metadata": {},
      "source": [
        "## Programmatic Generation of Composition Diagrams\n",
        "\n",
        "While in many cases it is elegant and insightful to use the `@relation` macro from Catlab to construct composition syntax (undirected wiring diagrams, UWD),\n",
        "it can become tedious and error-prone for large diagrams. In these cases, we may use the methods of operad algebras already seen to construct complex UWDs themselves from simpler UWDs using the `oapply` method to nest entire diagrams within boxes of other diagrams. Another method however, is to interact with the imperative interface for UWDs provided by Catlab, which constructs UWDs by directly adding boxes, junctions, ports, and wires to an empty UWD.\n",
        "\n",
        "We show here how to define functions that let one prepare UWDs for the SIR model with Erlang stages of infection where the number of stages may be an arbitrary number $n \\geq 2$.\n",
        "\n",
        "First we define a function that sets up the UWD describing the composition syntax for infection transitions. In the function, we first create an empty `RelationDiagram` with $n+1$ junctions of type `:Pop`, mapping into our type Petri net $P_{type}$, for the susceptible and all infectious populations. We then generate the dictionary `junctions` which also assigns each junction a variable name (`variable`) and assigns it to an outer port. The dictionary will map those names to the integer ID of the junction in the UWD. Next we generate the boxes which will represent the infection processes in a for loop. We first make a vector of `Symbol`s giving the junctions that this box will connect to, then add the box (all named `:infection`, to map to $P_{type}$), and finally set the junctions to which ports on this box map to.\n"
      ],
      "id": "55052d73"
    },
    {
      "cell_type": "code",
      "metadata": {},
      "source": [
        "nstages = 6\n",
        "\n",
        "function si_stages_uwd(n)\n",
        "    uwd = RelationDiagram(repeat([:Pop], n+1))\n",
        "    junctions = Dict(begin\n",
        "        variable = i <= n ? Symbol(sub(\"I\",i)) : :S\n",
        "        junction = add_junction!(uwd, :Pop, variable=variable)\n",
        "        set_junction!(uwd, port, junction, outer=true)\n",
        "        variable => junction\n",
        "    end for (i, port) in enumerate(ports(uwd, outer=true)))\n",
        "    for i in 1:n\n",
        "        box_wires = [:S, Symbol(sub(\"I\",i)),Symbol(sub(\"I\",1)),Symbol(sub(\"I\",i))]\n",
        "        box = add_box!(uwd, [junction_type(uwd, junctions[p]) for p in box_wires], name=:infection)\n",
        "        for (i, port) in enumerate(ports(uwd, box))\n",
        "            set_junction!(uwd, port, junctions[box_wires[i]])\n",
        "        end\n",
        "    end\n",
        "    return uwd\n",
        "end\n",
        "\n",
        "si_uwd = si_stages_uwd(nstages)\n",
        "to_graphviz(si_uwd, box_labels=:name, junction_labels=:variable)"
      ],
      "id": "534df9f7",
      "execution_count": null,
      "outputs": []
    },
    {
      "cell_type": "markdown",
      "metadata": {},
      "source": [
        "We then compose submodels according to the UWD to produce the typed Petri net describing the transmission model. \n"
      ],
      "id": "c94da29f"
    },
    {
      "cell_type": "code",
      "metadata": {},
      "source": [
        "betas = Symbol.([sub(\"β\",i) for i=1:nstages])\n",
        "si_acst = oapply_typed(epi_lpn, si_uwd, betas)\n",
        "si_lpn = dom(si_acst)\n",
        "to_graphviz(si_lpn)"
      ],
      "id": "c30ff7f2",
      "execution_count": null,
      "outputs": []
    },
    {
      "cell_type": "markdown",
      "metadata": {},
      "source": [
        "A similar function can be used to construct the UWD describing progression between substages and eventual recovery.\n"
      ],
      "id": "7ede982d"
    },
    {
      "cell_type": "code",
      "metadata": {},
      "source": [
        "function ir_stages_uwd(n)\n",
        "    uwd = RelationDiagram(repeat([:Pop], n+1))\n",
        "    junctions = Dict(begin\n",
        "        variable = i <= n ? Symbol(sub(\"I\",i)) : :R\n",
        "        junction = add_junction!(uwd, :Pop, variable=variable)\n",
        "        set_junction!(uwd, port, junction, outer=true)\n",
        "        variable => junction\n",
        "    end for (i, port) in enumerate(ports(uwd, outer=true)))\n",
        "    for i in 1:n\n",
        "        box_wires = i < n ? [Symbol(sub(\"I\",i)), Symbol(sub(\"I\",i+1))] : [Symbol(sub(\"I\",i)), :R] \n",
        "        box_name = i < n ? :progression : :recovery\n",
        "        box = add_box!(uwd, [junction_type(uwd, junctions[p]) for p in box_wires], name=box_name)\n",
        "        for (i, port) in enumerate(ports(uwd, box))\n",
        "            set_junction!(uwd, port, junctions[box_wires[i]])\n",
        "        end\n",
        "    end\n",
        "    return uwd\n",
        "end\n",
        "\n",
        "ir_uwd = ir_stages_uwd(nstages)\n",
        "to_graphviz(ir_uwd, box_labels=:name, junction_labels=:variable)"
      ],
      "id": "a43290bb",
      "execution_count": null,
      "outputs": []
    },
    {
      "cell_type": "markdown",
      "metadata": {},
      "source": [
        "As before, we compose concrete submodels to produce the typed Petri net.\n"
      ],
      "id": "58bac629"
    },
    {
      "cell_type": "code",
      "metadata": {},
      "source": [
        "deltas = Symbol.([sub(\"δ\",i) for i=1:nstages])\n",
        "ir_acst = oapply_typed(epi_lpn, ir_uwd, deltas)\n",
        "ir_lpn = dom(ir_acst)\n",
        "to_graphviz(ir_lpn)"
      ],
      "id": "e6e16bc5",
      "execution_count": null,
      "outputs": []
    },
    {
      "cell_type": "markdown",
      "metadata": {},
      "source": [
        "Finally we need a function to make the UWD that will combine the infection and progression submodels.\n"
      ],
      "id": "a70fd5a8"
    },
    {
      "cell_type": "code",
      "metadata": {},
      "source": [
        "function sir_stages_uwd(n)\n",
        "    uwd = RelationDiagram(repeat([:Pop], n+2))\n",
        "    states = [[Symbol(sub(\"I\",i)) for i in 1:n]; :S; :R]\n",
        "    junctions = Dict(begin\n",
        "        junction = add_junction!(uwd, :Pop, variable=state)\n",
        "        set_junction!(uwd, port, junction, outer=true)\n",
        "        state => junction\n",
        "    end for (state, port) in zip(states, ports(uwd, outer=true)))\n",
        "    # add si box\n",
        "    box_wires = states[[n+1;1:n]]\n",
        "    box = add_box!(uwd, [junction_type(uwd, junctions[p]) for p in box_wires], name=:si)\n",
        "    for (i, port) in enumerate(ports(uwd, box))\n",
        "        set_junction!(uwd, port, junctions[box_wires[i]])\n",
        "    end\n",
        "    # add ir box\n",
        "    box_wires = states[[1:n;end]]\n",
        "    box = add_box!(uwd, [junction_type(uwd, junctions[p]) for p in box_wires], name=:ir)\n",
        "    for (i, port) in enumerate(ports(uwd, box))\n",
        "        set_junction!(uwd, port, junctions[box_wires[i]])\n",
        "    end\n",
        "    return uwd\n",
        "end\n",
        "\n",
        "sir_uwd = sir_stages_uwd(nstages)\n",
        "to_graphviz(sir_uwd, box_labels=:name, junction_labels=:variable)"
      ],
      "id": "29fdd680",
      "execution_count": null,
      "outputs": []
    },
    {
      "cell_type": "markdown",
      "metadata": {},
      "source": [
        "Composition produces the full stage-structured model.\n"
      ],
      "id": "8923e890"
    },
    {
      "cell_type": "code",
      "metadata": {},
      "source": [
        "sir_smc = oapply(sir_uwd, Dict(\n",
        "    :si => Open(si_lpn),\n",
        "    :ir => Open(ir_lpn),\n",
        "))\n",
        "sir_lpn = apex(sir_smc)\n",
        "to_graphviz(sir_lpn)"
      ],
      "id": "89113cca",
      "execution_count": null,
      "outputs": []
    },
    {
      "cell_type": "markdown",
      "metadata": {},
      "source": [
        "We may then generate a vectorfield from the Petri net, using the law of mass-action, and solve a trajectory.\n"
      ],
      "id": "90bc197a"
    },
    {
      "cell_type": "code",
      "metadata": {},
      "source": [
        "sir_vf = vectorfield(sir_lpn);\n",
        "u0 = @LArray [990.0, 10.0, 0.0, 0.0, 0.0, 0.0, 0.0, 0.0] Tuple(snames(sir_lpn))\n",
        "p = @LArray vec([repeat([0.5/1000],6); repeat([0.25/6],6)]) Tuple(tnames(sir_lpn))\n",
        "tspan = (0.0, 40.0);\n",
        "\n",
        "sir_prob = ODEProblem(sir_vf, u0, tspan, p)\n",
        "sir_sol = solve(sir_prob, Rosenbrock32())\n",
        "plot(sir_sol, labels=hcat(string.(snames(sir_lpn))...))"
      ],
      "id": "96faa6c7",
      "execution_count": null,
      "outputs": []
    }
  ],
  "metadata": {
    "kernelspec": {
      "name": "julia-1.8",
      "language": "julia",
      "display_name": "Julia 1.8.5"
    }
  },
  "nbformat": 4,
  "nbformat_minor": 5
}