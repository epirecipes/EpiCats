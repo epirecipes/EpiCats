{
  "cells": [
    {
      "cell_type": "markdown",
      "metadata": {},
      "source": [
        "# Composing an SIR model from individual transitions using\n",
        "\n",
        "AlgebraicPetri.jl\n",
        "\n",
        "Simon Frost (@sdwfrost)  \n",
        "2023-06-13\n",
        "\n",
        "## Introduction\n",
        "\n",
        "This example serves as a ‘Hello World’ to composing Petri net models,\n",
        "where models are ‘glued’ together using the shared states of the\n",
        "individual submodels.\n",
        "\n",
        "## Libraries"
      ],
      "id": "7f164958-9eed-47e5-92fa-89e179f5888e"
    },
    {
      "cell_type": "code",
      "execution_count": 1,
      "metadata": {},
      "outputs": [],
      "source": [
        "using AlgebraicPetri,AlgebraicPetri.TypedPetri\n",
        "using Catlab, Catlab.CategoricalAlgebra, Catlab.Programs\n",
        "using Catlab.WiringDiagrams, Catlab.Graphics\n",
        "using AlgebraicDynamics.UWDDynam\n",
        "using LabelledArrays\n",
        "using OrdinaryDiffEq\n",
        "using Plots"
      ],
      "id": "2f0b57c9"
    },
    {
      "cell_type": "markdown",
      "metadata": {},
      "source": [
        "## Transitions\n",
        "\n",
        "We first define a labelled Petri net that has the different types of\n",
        "transition in our models. The first argument is an array of state names\n",
        "as symbols (here, a generic `:Pop`), followed by the transitions in the\n",
        "model. Transitions are given as\n",
        "`transition_name=>((input_states)=>(output_states))`."
      ],
      "id": "93995536-7481-4bc0-b835-5ae6db7a9163"
    },
    {
      "cell_type": "code",
      "execution_count": 2,
      "metadata": {},
      "outputs": [],
      "source": [
        "epi_lpn = LabelledPetriNet(\n",
        "  [:Pop],\n",
        "  :infection=>((:Pop, :Pop)=>(:Pop, :Pop)),\n",
        "  :recovery=>(:Pop=>:Pop)\n",
        ");"
      ],
      "id": "51ce494c"
    },
    {
      "cell_type": "markdown",
      "metadata": {},
      "source": [
        "Labelled Petri nets contain four types of fields; `S`, states or\n",
        "species; `T`, transitions; `I`, inputs; and `O`, outputs.\n",
        "\n",
        "Next, we define the transmission model (from susceptibles, `S` to\n",
        "infecteds, `I`) as an undirected wiring diagram using the `@relation`\n",
        "macro, referring to the transitions in our labelled Petri net above\n",
        "(`infection`). We include a reference to `Pop` in the definition of the\n",
        "state variables to allow us to do this."
      ],
      "id": "eb2661b9-9fe4-49ce-aadc-1a77ee0ac101"
    },
    {
      "cell_type": "code",
      "execution_count": 3,
      "metadata": {},
      "outputs": [],
      "source": [
        "si_uwd = @relation (S, I) where (S::Pop, I::Pop) begin\n",
        "    infection(S, I, I, I)\n",
        "end;"
      ],
      "id": "b2e054d0"
    },
    {
      "cell_type": "markdown",
      "metadata": {},
      "source": [
        "We then use `oapply_typed`, which takes in a labelled Petri net (here,\n",
        "`epi_lpn`) and an undirected wiring diagram (`si_uwd`), where each of\n",
        "the boxes is labeled by a symbol that matches the label of a transition\n",
        "in the Petri net, in addition to an array of symbols for each of the\n",
        "rates in the wiring diagram. This produces a Petri net given by\n",
        "colimiting the transitions together, and returns the\n",
        "`ACSetTransformation` from that Petri net to the type system."
      ],
      "id": "e3cf8b5a-40bf-4317-be19-8123f860a614"
    },
    {
      "cell_type": "code",
      "execution_count": 4,
      "metadata": {},
      "outputs": [],
      "source": [
        "si_acst = oapply_typed(epi_lpn, si_uwd, [:β]);"
      ],
      "id": "a16c2825"
    },
    {
      "cell_type": "markdown",
      "metadata": {},
      "source": [
        "To obtain the labelled Petri net, we extract the domain of the\n",
        "`ACSetTransformation` using `dom`."
      ],
      "id": "cca7db48-8ee3-45b3-a192-c33b9e753d0f"
    },
    {
      "cell_type": "code",
      "execution_count": 5,
      "metadata": {},
      "outputs": [],
      "source": [
        "si_lpn = dom(si_acst);"
      ],
      "id": "89aa4556"
    },
    {
      "cell_type": "markdown",
      "metadata": {},
      "source": [
        "We can obtain a GraphViz representation of the labelled Petri net using\n",
        "`to_graphviz`."
      ],
      "id": "e945d68b-0743-4f5d-945c-9ce972b7f8b9"
    },
    {
      "cell_type": "code",
      "execution_count": 6,
      "metadata": {},
      "outputs": [
        {
          "output_type": "display_data",
          "metadata": {},
          "data": {
            "image/svg+xml": "PD94bWwgdmVyc2lvbj0iMS4wIiBlbmNvZGluZz0iVVRGLTgiIHN0YW5kYWxvbmU9Im5vIj8+Cjwh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\nMCI+MjwvdGV4dD4KPC9nPgo8L2c+Cjwvc3ZnPgo=\n"
          }
        }
      ],
      "source": [
        "to_graphviz(si_lpn)"
      ],
      "id": "81b9811f"
    },
    {
      "cell_type": "markdown",
      "metadata": {},
      "source": [
        "We repeat for the recovery (`I` to `R`) transition."
      ],
      "id": "b67c0059-215d-419e-bb60-467906a2b0dc"
    },
    {
      "cell_type": "code",
      "execution_count": 7,
      "metadata": {},
      "outputs": [
        {
          "output_type": "display_data",
          "metadata": {},
          "data": {
            "image/svg+xml": "PD94bWwgdmVyc2lvbj0iMS4wIiBlbmNvZGluZz0iVVRGLTgiIHN0YW5kYWxvbmU9Im5vIj8+Cjwh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\nCg==\n"
          }
        }
      ],
      "source": [
        "ir_uwd = @relation (I, R) where (I::Pop, R::Pop) begin\n",
        "    recovery(I, R)\n",
        "end\n",
        "ir_acst = oapply_typed(epi_lpn, ir_uwd, [:γ])\n",
        "ir_lpn = dom(ir_acst)\n",
        "to_graphviz(ir_lpn)"
      ],
      "id": "17ca3490"
    },
    {
      "cell_type": "markdown",
      "metadata": {},
      "source": [
        "To glue the SI and IR models together to make an SIR model, we first\n",
        "define an undirected wiring diagram which contains all our states, and\n",
        "two transitions."
      ],
      "id": "90d73094-1de0-4ccb-bcee-3fee524e9e29"
    },
    {
      "cell_type": "code",
      "execution_count": 8,
      "metadata": {},
      "outputs": [],
      "source": [
        "sir_uwd = @relation (S, I, R) where (S::Pop, I::Pop, R::Pop) begin\n",
        "    si(S, I)\n",
        "    ir(I, R)\n",
        "end;"
      ],
      "id": "228aefae"
    },
    {
      "cell_type": "markdown",
      "metadata": {},
      "source": [
        "We then create a `StructuredMulticospan` using this wiring diagram,\n",
        "telling `oapply` that `si` in the wiring diagram corresponds to the\n",
        "`si_lpn` labelled Petri net, etc.. `Open` converts a PetriNet to an\n",
        "OpenPetriNet where each state is exposed as a leg of the cospan,\n",
        "allowing it to be composed over an undirected wiring diagram."
      ],
      "id": "d874c5be-4eae-4213-b34d-62af1c696886"
    },
    {
      "cell_type": "code",
      "execution_count": 9,
      "metadata": {},
      "outputs": [],
      "source": [
        "sir_smc = oapply(sir_uwd, Dict(\n",
        "    :si => Open(si_lpn),\n",
        "    :ir => Open(ir_lpn),\n",
        "));"
      ],
      "id": "e9324a8a"
    },
    {
      "cell_type": "markdown",
      "metadata": {},
      "source": [
        "We extract the labelled Petri net by extracting the object that is the\n",
        "codomain of all the legs, using the `apex` function."
      ],
      "id": "3598b558-cc0d-42bd-b8a4-5ae93f9bea8c"
    },
    {
      "cell_type": "code",
      "execution_count": 10,
      "metadata": {},
      "outputs": [
        {
          "output_type": "display_data",
          "metadata": {},
          "data": {
            "image/svg+xml": "PD94bWwgdmVyc2lvbj0iMS4wIiBlbmNvZGluZz0iVVRGLTgiIHN0YW5kYWxvbmU9Im5vIj8+Cjwh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\nCjwvZz4KPC9zdmc+Cg==\n"
          }
        }
      ],
      "source": [
        "sir_lpn = apex(sir_smc)\n",
        "to_graphviz(sir_lpn)"
      ],
      "id": "e0b1ee95"
    },
    {
      "cell_type": "markdown",
      "metadata": {},
      "source": [
        "## Running the model\n",
        "\n",
        "To run an ODE model from the labelled Petri net, we generate a function\n",
        "that can be passed to SciML’s `ODEProblem` using `vectorfield`."
      ],
      "id": "b9731854-3276-4f6f-aa98-4acfc6fb6935"
    },
    {
      "cell_type": "code",
      "execution_count": 11,
      "metadata": {},
      "outputs": [],
      "source": [
        "sir_vf = vectorfield(sir_lpn);"
      ],
      "id": "2f07d788"
    },
    {
      "cell_type": "markdown",
      "metadata": {},
      "source": [
        "The initial conditions and parameter values are written as labelled\n",
        "arrays."
      ],
      "id": "d021a1a1-af2a-442e-9989-36a7b4481510"
    },
    {
      "cell_type": "code",
      "execution_count": 12,
      "metadata": {},
      "outputs": [
        {
          "output_type": "display_data",
          "metadata": {},
          "data": {
            "text/plain": [
              "3-element LArray{Float64, 1, Vector{Float64}, (:S, :I, :R)}:\n",
              " :S => 990.0\n",
              " :I => 10.0\n",
              " :R => 0.0"
            ]
          }
        }
      ],
      "source": [
        "u0 = @LArray [990.0, 10.0, 0.0] Tuple(snames(sir_lpn))"
      ],
      "id": "d9aecad0"
    },
    {
      "cell_type": "code",
      "execution_count": 13,
      "metadata": {},
      "outputs": [
        {
          "output_type": "display_data",
          "metadata": {},
          "data": {
            "text/plain": [
              "2-element LArray{Float64, 1, Vector{Float64}, (:β, :γ)}:\n",
              " :β => 0.0005\n",
              " :γ => 0.25"
            ]
          }
        }
      ],
      "source": [
        "p = @LArray [0.5/1000, 0.25] Tuple(tnames(sir_lpn))"
      ],
      "id": "edf67971"
    },
    {
      "cell_type": "code",
      "execution_count": 14,
      "metadata": {},
      "outputs": [],
      "source": [
        "tspan = (0.0, 40.0);"
      ],
      "id": "f308f795"
    },
    {
      "cell_type": "markdown",
      "metadata": {},
      "source": [
        "We can now use the initial conditions, the time span, and the parameter\n",
        "values to simulate the system."
      ],
      "id": "b5c3cd1b-eac3-426b-bf0c-cc13888e1374"
    },
    {
      "cell_type": "code",
      "execution_count": 15,
      "metadata": {},
      "outputs": [
        {
          "output_type": "display_data",
          "metadata": {},
          "data": {
            "text/html": [
              "<img src=\"data:image/png;base64,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\" />"
            ]
          }
        }
      ],
      "source": [
        "sir_prob = ODEProblem(sir_vf, u0, tspan, p)\n",
        "sir_sol = solve(sir_prob, Rosenbrock32())\n",
        "plot(sir_sol)"
      ],
      "id": "0d524827"
    }
  ],
  "nbformat": 4,
  "nbformat_minor": 5,
  "metadata": {
    "kernelspec": {
      "name": "julia-1.10",
      "display_name": "Julia 1.10.3",
      "language": "julia",
      "path": "/Users/sdwfrost/Library/Jupyter/kernels/julia-1.10"
    }
  }
}