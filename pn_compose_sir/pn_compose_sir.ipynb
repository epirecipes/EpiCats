{
  "cells": [
    {
      "cell_type": "markdown",
      "metadata": {},
      "source": [
        "# Composing an SIR model from individual transitions using\n",
        "\n",
        "AlgebraicPetri.jl\n",
        "\n",
        "Simon Frost (@sdwfrost), 2023-06-13\n",
        "\n",
        "## Introduction\n",
        "\n",
        "This example serves as a ‘Hello World’ to composing Petri net models,\n",
        "where models are ‘glued’ together using the shared states of the\n",
        "individual submodels.\n",
        "\n",
        "## Libraries"
      ],
      "id": "9eddf1ae-9ee7-46d6-8300-ba53bfad79c9"
    },
    {
      "cell_type": "code",
      "execution_count": 1,
      "metadata": {},
      "outputs": [],
      "source": [
        "using AlgebraicPetri,AlgebraicPetri.TypedPetri\n",
        "using Catlab, Catlab.CategoricalAlgebra, Catlab.Programs\n",
        "using Catlab.WiringDiagrams\n",
        "using AlgebraicDynamics.UWDDynam\n",
        "using LabelledArrays\n",
        "using OrdinaryDiffEq\n",
        "using Plots"
      ],
      "id": "dbea66b6"
    },
    {
      "cell_type": "markdown",
      "metadata": {},
      "source": [
        "## Transitions\n",
        "\n",
        "We first define a labelled Petri net that has the different types of\n",
        "transition in our models. The first argument is an array of state names\n",
        "as symbols (here, a generic `:Pop`), followed by the transitions in the\n",
        "model. Transitions are given as\n",
        "`transition_name=>((input_states)=>(output_states))`."
      ],
      "id": "11bfb322-d1fc-4ec1-a258-3a8c4893071a"
    },
    {
      "cell_type": "code",
      "execution_count": 2,
      "metadata": {},
      "outputs": [],
      "source": [
        "epi_lpn = LabelledPetriNet(\n",
        "  [:Pop],\n",
        "  :infection=>((:Pop, :Pop)=>(:Pop, :Pop)),\n",
        "  :recovery=>(:Pop=>:Pop)\n",
        ");"
      ],
      "id": "d30e2123"
    },
    {
      "cell_type": "markdown",
      "metadata": {},
      "source": [
        "Labelled Petri nets contain four types of fields; `S`, states or\n",
        "species; `T`, transitions; `I`, inputs; and `O`, outputs.\n",
        "\n",
        "Next, we define the transmission model (from susceptibles, `S` to\n",
        "infecteds, `I`) as an undirected wiring diagram using the `@relation`\n",
        "macro, referring to the transitions in our labelled Petri net above\n",
        "(`infection`). We include a reference to `Pop` in the definition of the\n",
        "state variables to allow us to do this."
      ],
      "id": "bd0c0707-90f4-4e61-a38e-d5d898fae5f3"
    },
    {
      "cell_type": "code",
      "execution_count": 3,
      "metadata": {},
      "outputs": [],
      "source": [
        "si_uwd = @relation (S, I) where (S::Pop, I::Pop) begin\n",
        "    infection(S, I, I, I)\n",
        "end;"
      ],
      "id": "ed197927"
    },
    {
      "cell_type": "markdown",
      "metadata": {},
      "source": [
        "We then use `oapply_typed`, which takes in a labelled Petri net (here,\n",
        "`epi_lpn`) and an undirected wiring diagram (`si_uwd`), where each of\n",
        "the boxes is labeled by a symbol that matches the label of a transition\n",
        "in the Petri net, in addition to an array of symbols for each of the\n",
        "rates in the wiring diagram. This produces a Petri net given by\n",
        "colimiting the transitions together, and returns the\n",
        "`ACSetTransformation` from that Petri net to the type system."
      ],
      "id": "4917eedb-0141-4a69-905b-6354eb407eef"
    },
    {
      "cell_type": "code",
      "execution_count": 4,
      "metadata": {},
      "outputs": [],
      "source": [
        "si_acst = oapply_typed(epi_lpn, si_uwd, [:β]);"
      ],
      "id": "a15c7f0c"
    },
    {
      "cell_type": "markdown",
      "metadata": {},
      "source": [
        "To obtain the labelled Petri net, we extract the domain of the\n",
        "`ACSetTransformation` using `dom`."
      ],
      "id": "969c3550-391c-446c-ab84-20f8e8230ecd"
    },
    {
      "cell_type": "code",
      "execution_count": 5,
      "metadata": {},
      "outputs": [],
      "source": [
        "si_lpn = dom(si_acst);"
      ],
      "id": "52b58780"
    },
    {
      "cell_type": "markdown",
      "metadata": {},
      "source": [
        "We can obtain a GraphViz representation of the labelled Petri net using\n",
        "`Graph`."
      ],
      "id": "6e7a7cdc-19ee-49fa-8ca1-69263a04a294"
    },
    {
      "cell_type": "code",
      "execution_count": 6,
      "metadata": {},
      "outputs": [
        {
          "output_type": "display_data",
          "metadata": {},
          "data": {
            "image/svg+xml": "PD94bWwgdmVyc2lvbj0iMS4wIiBlbmNvZGluZz0iVVRGLTgiIHN0YW5kYWxvbmU9Im5vIj8+Cjwh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\nL3RleHQ+CjwvZz4KPC9nPgo8L3N2Zz4K\n"
          }
        }
      ],
      "source": [
        "Graph(si_lpn)"
      ],
      "id": "d5776eb2"
    },
    {
      "cell_type": "markdown",
      "metadata": {},
      "source": [
        "We repeat for the recovery (`I` to `R`) transition."
      ],
      "id": "b9ca300f-b0e1-497b-ab16-39230dcb0767"
    },
    {
      "cell_type": "code",
      "execution_count": 7,
      "metadata": {},
      "outputs": [
        {
          "output_type": "display_data",
          "metadata": {},
          "data": {
            "image/svg+xml": "PD94bWwgdmVyc2lvbj0iMS4wIiBlbmNvZGluZz0iVVRGLTgiIHN0YW5kYWxvbmU9Im5vIj8+Cjwh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\n"
          }
        }
      ],
      "source": [
        "ir_uwd = @relation (I, R) where (I::Pop, R::Pop) begin\n",
        "    recovery(I, R)\n",
        "end\n",
        "ir_acst = oapply_typed(epi_lpn, ir_uwd, [:γ])\n",
        "ir_lpn = dom(ir_acst)\n",
        "Graph(ir_lpn)"
      ],
      "id": "9a8d6168"
    },
    {
      "cell_type": "markdown",
      "metadata": {},
      "source": [
        "To glue the SI and IR models together to make an SIR model, we first\n",
        "define an undirected wiring diagram which contains all our states, and\n",
        "two transitions."
      ],
      "id": "716257b3-7126-4c6b-bda7-2938f10601a3"
    },
    {
      "cell_type": "code",
      "execution_count": 8,
      "metadata": {},
      "outputs": [],
      "source": [
        "sir_uwd = @relation (S, I, R) where (S::Pop, I::Pop, R::Pop) begin\n",
        "    si(S, I)\n",
        "    ir(I, R)\n",
        "end;"
      ],
      "id": "6bc5d4cf"
    },
    {
      "cell_type": "markdown",
      "metadata": {},
      "source": [
        "We then create a `StructuredMulticospan` using this wiring diagram,\n",
        "telling `oapply` that `si` in the wiring diagram corresponds to the\n",
        "`si_lpn` labelled Petri net, etc.. `Open` converts a PetriNet to an\n",
        "OpenPetriNet where each state is exposed as a leg of the cospan,\n",
        "allowing it to be composed over an undirected wiring diagram."
      ],
      "id": "8cf8695c-1550-4c72-aaa1-ca1743481c38"
    },
    {
      "cell_type": "code",
      "execution_count": 9,
      "metadata": {},
      "outputs": [
        {
          "output_type": "display_data",
          "metadata": {},
          "data": {
            "text/plain": [
              "StructuredMulticospan{Catlab.CategoricalAlgebra.StructuredCospans.DiscreteACSet{AnonACSet{TypeLevelBasicSchema{Symbol, Tuple{:S}, Tuple{}, Tuple{:Name}, Tuple{(:sname, :S, :Name)}}, Tuple{Symbol}, Catlab.LVectors.LVector{(:S,), Int64}, NamedTuple{(:sname,), Tuple{Catlab.ColumnImplementations.DenseColumn{Symbol, Vector{Symbol}}}}}, LabelledPetriNet}, Multicospan{LabelledPetriNet, StructTightACSetTransformation{TypeLevelBasicSchema{Symbol, Tuple{:T, :S, :I, :O}, Tuple{(:it, :I, :T), (:is, :I, :S), (:ot, :O, :T), (:os, :O, :S)}, Tuple{:Name}, Tuple{(:tname, :T, :Name), (:sname, :S, :Name)}}, NamedTuple{(:T, :S, :I, :O), NTuple{4, Catlab.CategoricalAlgebra.FinSets.FinDomFunctionVector{Int64, Vector{Int64}, Catlab.CategoricalAlgebra.FinSets.FinSetInt}}}, LabelledPetriNet, LabelledPetriNet}, Vector{StructTightACSetTransformation{TypeLevelBasicSchema{Symbol, Tuple{:T, :S, :I, :O}, Tuple{(:it, :I, :T), (:is, :I, :S), (:ot, :O, :T), (:os, :O, :S)}, Tuple{:Name}, Tuple{(:tname, :T, :Name), (:sname, :S, :Name)}}, NamedTuple{(:T, :S, :I, :O), NTuple{4, Catlab.CategoricalAlgebra.FinSets.FinDomFunctionVector{Int64, Vector{Int64}, Catlab.CategoricalAlgebra.FinSets.FinSetInt}}}, LabelledPetriNet, LabelledPetriNet}}}, Vector{AnonACSet{TypeLevelBasicSchema{Symbol, Tuple{:S}, Tuple{}, Tuple{:Name}, Tuple{(:sname, :S, :Name)}}, Tuple{Symbol}, Catlab.LVectors.LVector{(:S,), Int64}, NamedTuple{(:sname,), Tuple{Catlab.ColumnImplementations.DenseColumn{Symbol, Vector{Symbol}}}}}}}(Multicospan{LabelledPetriNet, StructTightACSetTransformation{TypeLevelBasicSchema{Symbol, Tuple{:T, :S, :I, :O}, Tuple{(:it, :I, :T), (:is, :I, :S), (:ot, :O, :T), (:os, :O, :S)}, Tuple{:Name}, Tuple{(:tname, :T, :Name), (:sname, :S, :Name)}}, NamedTuple{(:T, :S, :I, :O), NTuple{4, Catlab.CategoricalAlgebra.FinSets.FinDomFunctionVector{Int64, Vector{Int64}, Catlab.CategoricalAlgebra.FinSets.FinSetInt}}}, LabelledPetriNet, LabelledPetriNet}, Vector{StructTightACSetTransformation{TypeLevelBasicSchema{Symbol, Tuple{:T, :S, :I, :O}, Tuple{(:it, :I, :T), (:is, :I, :S), (:ot, :O, :T), (:os, :O, :S)}, Tuple{:Name}, Tuple{(:tname, :T, :Name), (:sname, :S, :Name)}}, NamedTuple{(:T, :S, :I, :O), NTuple{4, Catlab.CategoricalAlgebra.FinSets.FinDomFunctionVector{Int64, Vector{Int64}, Catlab.CategoricalAlgebra.FinSets.FinSetInt}}}, LabelledPetriNet, LabelledPetriNet}}}(LabelledPetriNet:\n",
              "  T = 1:2\n",
              "  S = 1:3\n",
              "  I = 1:3\n",
              "  O = 1:3\n",
              "  it : I → T = [1, 1, 2]\n",
              "  is : I → S = [1, 2, 2]\n",
              "  ot : O → T = [1, 1, 2]\n",
              "  os : O → S = [2, 2, 3]\n",
              "  tname : T → Name = [:β, :γ]\n",
              "  sname : S → Name = [:S, :I, :R], StructTightACSetTransformation{TypeLevelBasicSchema{Symbol, Tuple{:T, :S, :I, :O}, Tuple{(:it, :I, :T), (:is, :I, :S), (:ot, :O, :T), (:os, :O, :S)}, Tuple{:Name}, Tuple{(:tname, :T, :Name), (:sname, :S, :Name)}}, NamedTuple{(:T, :S, :I, :O), NTuple{4, Catlab.CategoricalAlgebra.FinSets.FinDomFunctionVector{Int64, Vector{Int64}, Catlab.CategoricalAlgebra.FinSets.FinSetInt}}}, LabelledPetriNet, LabelledPetriNet}[ACSetTransformation((T = FinFunction(Int64[], 0, 2), S = FinFunction([1], 1, 3), I = FinFunction(Int64[], 0, 3), O = FinFunction(Int64[], 0, 3)), LabelledPetriNet {T = 0, S = 1, I = 0, O = 0}, LabelledPetriNet {T = 2, S = 3, I = 3, O = 3}), ACSetTransformation((T = FinFunction(Int64[], 0, 2), S = FinFunction([2], 1, 3), I = FinFunction(Int64[], 0, 3), O = FinFunction(Int64[], 0, 3)), LabelledPetriNet {T = 0, S = 1, I = 0, O = 0}, LabelledPetriNet {T = 2, S = 3, I = 3, O = 3}), ACSetTransformation((T = FinFunction(Int64[], 0, 2), S = FinFunction([3], 1, 3), I = FinFunction(Int64[], 0, 3), O = FinFunction(Int64[], 0, 3)), LabelledPetriNet {T = 0, S = 1, I = 0, O = 0}, LabelledPetriNet {T = 2, S = 3, I = 3, O = 3})]), AnonACSet{TypeLevelBasicSchema{Symbol, Tuple{:S}, Tuple{}, Tuple{:Name}, Tuple{(:sname, :S, :Name)}}, Tuple{Symbol}, Catlab.LVectors.LVector{(:S,), Int64}, NamedTuple{(:sname,), Tuple{Catlab.ColumnImplementations.DenseColumn{Symbol, Vector{Symbol}}}}}[AnonACSet{TypeLevelBasicSchema{Symbol, Tuple{:S}, Tuple{}, Tuple{:Name}, Tuple{(:sname, :S, :Name)}}, Tuple{Symbol}, Catlab.LVectors.LVector{(:S,), Int64}, NamedTuple{(:sname,), Tuple{Catlab.ColumnImplementations.DenseColumn{Symbol, Vector{Symbol}}}}}:\n",
              "  S = 1:1\n",
              "  sname : S → Name = [:S], AnonACSet{TypeLevelBasicSchema{Symbol, Tuple{:S}, Tuple{}, Tuple{:Name}, Tuple{(:sname, :S, :Name)}}, Tuple{Symbol}, Catlab.LVectors.LVector{(:S,), Int64}, NamedTuple{(:sname,), Tuple{Catlab.ColumnImplementations.DenseColumn{Symbol, Vector{Symbol}}}}}:\n",
              "  S = 1:1\n",
              "  sname : S → Name = [:I], AnonACSet{TypeLevelBasicSchema{Symbol, Tuple{:S}, Tuple{}, Tuple{:Name}, Tuple{(:sname, :S, :Name)}}, Tuple{Symbol}, Catlab.LVectors.LVector{(:S,), Int64}, NamedTuple{(:sname,), Tuple{Catlab.ColumnImplementations.DenseColumn{Symbol, Vector{Symbol}}}}}:\n",
              "  S = 1:1\n",
              "  sname : S → Name = [:R]])"
            ]
          }
        }
      ],
      "source": [
        "sir_smc = oapply(sir_uwd, Dict(\n",
        "    :si => Open(si_lpn),\n",
        "    :ir => Open(ir_lpn),\n",
        "))"
      ],
      "id": "b3860f17"
    },
    {
      "cell_type": "markdown",
      "metadata": {},
      "source": [
        "We extract the labelled Petri net by extracting the object that is the\n",
        "codomain of all the legs, using the `apex` function."
      ],
      "id": "bedad1d3-e88f-45f0-b4e7-215e9f6dec8d"
    },
    {
      "cell_type": "code",
      "execution_count": 10,
      "metadata": {},
      "outputs": [
        {
          "output_type": "display_data",
          "metadata": {},
          "data": {
            "image/svg+xml": "PD94bWwgdmVyc2lvbj0iMS4wIiBlbmNvZGluZz0iVVRGLTgiIHN0YW5kYWxvbmU9Im5vIj8+Cjwh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\nL3N2Zz4K\n"
          }
        }
      ],
      "source": [
        "sir_lpn = apex(sir_smc)\n",
        "Graph(sir_lpn)"
      ],
      "id": "20bbc9cc"
    },
    {
      "cell_type": "markdown",
      "metadata": {},
      "source": [
        "## Running the model\n",
        "\n",
        "To run an ODE model from the labelled Petri net, we generate a function\n",
        "that can be passed to SciML’s `ODEProblem` using `vectorfield`."
      ],
      "id": "b9213bde-6ef2-4cf0-b5af-0e7b118e8460"
    },
    {
      "cell_type": "code",
      "execution_count": 11,
      "metadata": {},
      "outputs": [],
      "source": [
        "sir_vf = vectorfield(sir_lpn);"
      ],
      "id": "679d9118"
    },
    {
      "cell_type": "markdown",
      "metadata": {},
      "source": [
        "The initial conditions and parameter values are written as labelled\n",
        "arrays."
      ],
      "id": "838a567b-5954-43ab-9df4-c194661b315b"
    },
    {
      "cell_type": "code",
      "execution_count": 12,
      "metadata": {},
      "outputs": [
        {
          "output_type": "display_data",
          "metadata": {},
          "data": {
            "text/plain": [
              "3-element LArray{Float64, 1, Vector{Float64}, (:S, :I, :R)}:\n",
              " :S => 990.0\n",
              " :I => 10.0\n",
              " :R => 0.0"
            ]
          }
        }
      ],
      "source": [
        "u0 = @LArray [990.0, 10.0, 0.0] Tuple(snames(sir_lpn))"
      ],
      "id": "02b23931"
    },
    {
      "cell_type": "code",
      "execution_count": 13,
      "metadata": {},
      "outputs": [
        {
          "output_type": "display_data",
          "metadata": {},
          "data": {
            "text/plain": [
              "2-element LArray{Float64, 1, Vector{Float64}, (:β, :γ)}:\n",
              " :β => 0.0005\n",
              " :γ => 0.25"
            ]
          }
        }
      ],
      "source": [
        "p = @LArray [0.5/1000, 0.25] Tuple(tnames(sir_lpn))"
      ],
      "id": "4b075be0"
    },
    {
      "cell_type": "code",
      "execution_count": 14,
      "metadata": {},
      "outputs": [],
      "source": [
        "tspan = (0.0, 40.0);"
      ],
      "id": "83cf47c3"
    },
    {
      "cell_type": "markdown",
      "metadata": {},
      "source": [
        "We can now use the initial conditions, the time span, and the parameter\n",
        "values to simulate the system."
      ],
      "id": "1744f20a-b3e4-4847-9b20-6c1d71fca52f"
    },
    {
      "cell_type": "code",
      "execution_count": 15,
      "metadata": {},
      "outputs": [
        {
          "output_type": "display_data",
          "metadata": {},
          "data": {
            "text/html": [
              "<img src=\"data:image/png;base64,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\" />"
            ]
          }
        }
      ],
      "source": [
        "sir_prob = ODEProblem(sir_vf, u0, tspan, p)\n",
        "sir_sol = solve(sir_prob, Rosenbrock32())\n",
        "plot(sir_sol)"
      ],
      "id": "402a5b70"
    }
  ],
  "nbformat": 4,
  "nbformat_minor": 5,
  "metadata": {
    "kernelspec": {
      "name": "julia-1.9",
      "display_name": "Julia 1.9.0",
      "language": "julia"
    },
    "language_info": {
      "name": "julia",
      "file_extension": ".jl",
      "mimetype": "application/julia",
      "version": "1.9.0"
    }
  }
}